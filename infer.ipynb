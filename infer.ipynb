{
 "cells": [
  {
   "cell_type": "code",
   "execution_count": null,
   "metadata": {},
   "outputs": [],
   "source": [
    "import torch\n",
    "import torch.nn as nn\n",
    "import torch.nn.functional as F\n",
    "import torch.optim as optim\n",
    "from torch.utils.data import Dataset, DataLoader\n",
    "from torchvision import transforms\n",
    "\n",
    "import matplotlib.pyplot as plt\n",
    "from tqdm import tqdm\n",
    "\n",
    "from glob import glob\n",
    "import random\n",
    "from PIL import Image\n",
    "import numpy as np"
   ]
  },
  {
   "cell_type": "code",
   "execution_count": null,
   "metadata": {},
   "outputs": [],
   "source": [
    "class GAN_CustomDataset(Dataset):\n",
    "    def __init__(self, data_paths,transform=None,output_path=True):\n",
    "        self.data_path_monet, self.data_path_photo = self.get_all_path(data_paths)\n",
    "        self.transform = transform\n",
    "        self.output_path = output_path\n",
    "\n",
    "    def __len__(self):\n",
    "        return len(self.data_path_photo)\n",
    "    \n",
    "\n",
    "    def __getitem__(self, idx):\n",
    "        sample_monet_paths = self.data_path_monet[idx]\n",
    "        sample_photo_paths = self.data_path_photo[idx]\n",
    "    \n",
    "        sample_monet = []\n",
    "        sample_photo = []\n",
    "        if self.output_path == True:\n",
    "            sample_monet = sample_monet_paths\n",
    "            sample_photo = sample_photo_paths\n",
    "            \n",
    "        elif self.output_path == False:\n",
    "           \n",
    "            img_monet = Image.open(sample_monet_paths).convert('RGB') # (height, width, channels)\n",
    "            img_monet = self.transform(img_monet)\n",
    "            sample_monet = img_monet\n",
    "\n",
    "            img_photo = Image.open(sample_photo_paths).convert('RGB') # (height, width, channels)\n",
    "            img_photo = self.transform(img_photo)\n",
    "            sample_photo = img_photo\n",
    "\n",
    "            # Convert list of images to tensor\n",
    "            sample_monet = torch.tensor(sample_monet)\n",
    "            sample_photo = torch.tensor(sample_photo) \n",
    "\n",
    "        return sample_monet, sample_photo\n",
    "    \n",
    "    def get_all_path(self,data_paths):\n",
    "        path_monet = [i for i in glob(data_paths[0])]\n",
    "        path_photo = [i for i in glob(data_paths[1])]\n",
    "        \n",
    "        # Oversampling\n",
    "        size_difference = np.abs(len(path_monet) - len(path_photo))\n",
    "        path_monet += random.choices(path_monet, k=size_difference)\n",
    "        \n",
    "        return path_monet, path_photo"
   ]
  },
  {
   "cell_type": "code",
   "execution_count": null,
   "metadata": {},
   "outputs": [],
   "source": []
  }
 ],
 "metadata": {
  "kernelspec": {
   "display_name": "gan_env",
   "language": "python",
   "name": "python3"
  },
  "language_info": {
   "name": "python",
   "version": "3.11.10"
  }
 },
 "nbformat": 4,
 "nbformat_minor": 2
}
